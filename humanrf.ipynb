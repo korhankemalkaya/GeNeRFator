{
  "cells": [
    {
      "cell_type": "code",
      "execution_count": 2,
      "metadata": {
        "colab": {
          "base_uri": "https://localhost:8080/"
        },
        "id": "dkerG8FAEI6B",
        "outputId": "c0b897ef-f662-4cad-9d32-c64497f5fdb0"
      },
      "outputs": [
        {
          "output_type": "stream",
          "name": "stdout",
          "text": [
            "Mounted at /content/drive\n"
          ]
        }
      ],
      "source": [
        "from google.colab import drive\n",
        "drive.mount('/content/drive', force_remount=True)"
      ]
    },
    {
      "cell_type": "code",
      "execution_count": 8,
      "metadata": {
        "colab": {
          "base_uri": "https://localhost:8080/"
        },
        "id": "XLuE1zYwDsa0",
        "outputId": "35c03b10-c7c0-40ec-b598-93ab279c2fa8"
      },
      "outputs": [
        {
          "output_type": "stream",
          "name": "stdout",
          "text": [
            "[Errno 2] No such file or directory: 'drive/MyDrive/humanrf/home/zg296/humanrf'\n",
            "/content/drive/MyDrive/humanrf/home/zg296/humanrf\n"
          ]
        }
      ],
      "source": [
        "%cd drive/MyDrive/humanrf/home/zg296/humanrf"
      ]
    },
    {
      "cell_type": "code",
      "execution_count": 2,
      "metadata": {
        "colab": {
          "base_uri": "https://localhost:8080/"
        },
        "id": "HUm_JRn1CCMY",
        "outputId": "5404a3c6-3d21-4341-8ad9-f977de0cdea3"
      },
      "outputs": [
        {
          "output_type": "stream",
          "name": "stdout",
          "text": [
            "Reading package lists... Done\n",
            "Building dependency tree       \n",
            "Reading state information... Done\n",
            "libglm-dev is already the newest version (0.9.9.7+ds-1).\n",
            "0 upgraded, 0 newly installed, 0 to remove and 15 not upgraded.\n",
            "Requirement already satisfied: ffmpeg-python==0.2.0 in /usr/local/lib/python3.10/dist-packages (from -r requirements.txt (line 1)) (0.2.0)\n",
            "Requirement already satisfied: lpips==0.1.4 in /usr/local/lib/python3.10/dist-packages (from -r requirements.txt (line 2)) (0.1.4)\n",
            "Requirement already satisfied: nerfacc==0.3.1 in /usr/local/lib/python3.10/dist-packages (from -r requirements.txt (line 3)) (0.3.1)\n",
            "Requirement already satisfied: ninja==1.11.1 in /usr/local/lib/python3.10/dist-packages (from -r requirements.txt (line 4)) (1.11.1)\n",
            "Requirement already satisfied: numpy==1.23.5 in /usr/local/lib/python3.10/dist-packages (from -r requirements.txt (line 5)) (1.23.5)\n",
            "Requirement already satisfied: opencv_python==4.6.0.66 in /usr/local/lib/python3.10/dist-packages (from -r requirements.txt (line 6)) (4.6.0.66)\n",
            "Requirement already satisfied: Pillow==9.3.0 in /usr/local/lib/python3.10/dist-packages (from -r requirements.txt (line 7)) (9.3.0)\n",
            "Requirement already satisfied: PyYAML==6.0 in /usr/local/lib/python3.10/dist-packages (from -r requirements.txt (line 8)) (6.0)\n",
            "Requirement already satisfied: Requests==2.30.0 in /usr/local/lib/python3.10/dist-packages (from -r requirements.txt (line 9)) (2.30.0)\n",
            "Requirement already satisfied: rich==13.3.5 in /usr/local/lib/python3.10/dist-packages (from -r requirements.txt (line 10)) (13.3.5)\n",
            "Requirement already satisfied: scikit_image==0.19.3 in /usr/local/lib/python3.10/dist-packages (from -r requirements.txt (line 11)) (0.19.3)\n",
            "Requirement already satisfied: scipy==1.9.3 in /usr/local/lib/python3.10/dist-packages (from -r requirements.txt (line 12)) (1.9.3)\n",
            "Requirement already satisfied: setuptools==67.6.1 in /usr/local/lib/python3.10/dist-packages (from -r requirements.txt (line 13)) (67.6.1)\n",
            "Requirement already satisfied: simple_parsing==0.0.21.post1 in /usr/local/lib/python3.10/dist-packages (from -r requirements.txt (line 14)) (0.0.21.post1)\n",
            "Requirement already satisfied: tensorboardX==2.5.1 in /usr/local/lib/python3.10/dist-packages (from -r requirements.txt (line 15)) (2.5.1)\n",
            "Requirement already satisfied: torch==1.13.0 in /usr/local/lib/python3.10/dist-packages (from -r requirements.txt (line 16)) (1.13.0)\n",
            "Requirement already satisfied: torchaudio==0.13.0 in /usr/local/lib/python3.10/dist-packages (from -r requirements.txt (line 17)) (0.13.0)\n",
            "Requirement already satisfied: torchvision==0.14.0 in /usr/local/lib/python3.10/dist-packages (from -r requirements.txt (line 18)) (0.14.0)\n",
            "Requirement already satisfied: toml==0.10.2 in /usr/local/lib/python3.10/dist-packages (from -r requirements.txt (line 19)) (0.10.2)\n",
            "Requirement already satisfied: tqdm==4.64.1 in /usr/local/lib/python3.10/dist-packages (from -r requirements.txt (line 20)) (4.64.1)\n",
            "Requirement already satisfied: urllib3==1.25.8 in /usr/local/lib/python3.10/dist-packages (from -r requirements.txt (line 21)) (1.25.8)\n",
            "Requirement already satisfied: future in /usr/local/lib/python3.10/dist-packages (from ffmpeg-python==0.2.0->-r requirements.txt (line 1)) (0.18.3)\n",
            "Requirement already satisfied: pybind11>=2.10.0 in /usr/local/lib/python3.10/dist-packages (from nerfacc==0.3.1->-r requirements.txt (line 3)) (2.11.1)\n",
            "Requirement already satisfied: charset-normalizer<4,>=2 in /usr/local/lib/python3.10/dist-packages (from Requests==2.30.0->-r requirements.txt (line 9)) (2.0.12)\n",
            "Requirement already satisfied: idna<4,>=2.5 in /usr/local/lib/python3.10/dist-packages (from Requests==2.30.0->-r requirements.txt (line 9)) (3.4)\n",
            "Requirement already satisfied: certifi>=2017.4.17 in /usr/local/lib/python3.10/dist-packages (from Requests==2.30.0->-r requirements.txt (line 9)) (2023.5.7)\n",
            "Requirement already satisfied: markdown-it-py<3.0.0,>=2.2.0 in /usr/local/lib/python3.10/dist-packages (from rich==13.3.5->-r requirements.txt (line 10)) (2.2.0)\n",
            "Requirement already satisfied: pygments<3.0.0,>=2.13.0 in /usr/local/lib/python3.10/dist-packages (from rich==13.3.5->-r requirements.txt (line 10)) (2.14.0)\n",
            "Requirement already satisfied: networkx>=2.2 in /usr/local/lib/python3.10/dist-packages (from scikit_image==0.19.3->-r requirements.txt (line 11)) (3.1)\n",
            "Requirement already satisfied: imageio>=2.4.1 in /usr/local/lib/python3.10/dist-packages (from scikit_image==0.19.3->-r requirements.txt (line 11)) (2.25.1)\n",
            "Requirement already satisfied: tifffile>=2019.7.26 in /usr/local/lib/python3.10/dist-packages (from scikit_image==0.19.3->-r requirements.txt (line 11)) (2023.7.10)\n",
            "Requirement already satisfied: PyWavelets>=1.1.1 in /usr/local/lib/python3.10/dist-packages (from scikit_image==0.19.3->-r requirements.txt (line 11)) (1.4.1)\n",
            "Requirement already satisfied: packaging>=20.0 in /usr/local/lib/python3.10/dist-packages (from scikit_image==0.19.3->-r requirements.txt (line 11)) (23.1)\n",
            "Requirement already satisfied: typing-extensions in /usr/local/lib/python3.10/dist-packages (from simple_parsing==0.0.21.post1->-r requirements.txt (line 14)) (4.7.1)\n",
            "Requirement already satisfied: docstring-parser~=0.15 in /usr/local/lib/python3.10/dist-packages (from simple_parsing==0.0.21.post1->-r requirements.txt (line 14)) (0.15)\n",
            "Requirement already satisfied: protobuf<=3.20.1,>=3.8.0 in /usr/local/lib/python3.10/dist-packages (from tensorboardX==2.5.1->-r requirements.txt (line 15)) (3.20.1)\n",
            "Requirement already satisfied: nvidia-cuda-runtime-cu11==11.7.99 in /usr/local/lib/python3.10/dist-packages (from torch==1.13.0->-r requirements.txt (line 16)) (11.7.99)\n",
            "Requirement already satisfied: nvidia-cudnn-cu11==8.5.0.96 in /usr/local/lib/python3.10/dist-packages (from torch==1.13.0->-r requirements.txt (line 16)) (8.5.0.96)\n",
            "Requirement already satisfied: nvidia-cublas-cu11==11.10.3.66 in /usr/local/lib/python3.10/dist-packages (from torch==1.13.0->-r requirements.txt (line 16)) (11.10.3.66)\n",
            "Requirement already satisfied: nvidia-cuda-nvrtc-cu11==11.7.99 in /usr/local/lib/python3.10/dist-packages (from torch==1.13.0->-r requirements.txt (line 16)) (11.7.99)\n",
            "Requirement already satisfied: wheel in /usr/local/lib/python3.10/dist-packages (from nvidia-cublas-cu11==11.10.3.66->torch==1.13.0->-r requirements.txt (line 16)) (0.40.0)\n",
            "Requirement already satisfied: mdurl~=0.1 in /usr/local/lib/python3.10/dist-packages (from markdown-it-py<3.0.0,>=2.2.0->rich==13.3.5->-r requirements.txt (line 10)) (0.1.2)\n"
          ]
        }
      ],
      "source": [
        "!sudo apt-get install libglm-dev\n",
        "!pip install -r requirements.txt\n"
      ]
    },
    {
      "cell_type": "code",
      "execution_count": 3,
      "metadata": {
        "colab": {
          "base_uri": "https://localhost:8080/"
        },
        "id": "_8986qrWFoYs",
        "outputId": "4bb92bd8-0adb-4021-b121-5522123fe413"
      },
      "outputs": [
        {
          "output_type": "stream",
          "name": "stdout",
          "text": [
            "Collecting git+https://github.com/NVlabs/tiny-cuda-nn/#subdirectory=bindings/torch\n",
            "  Cloning https://github.com/NVlabs/tiny-cuda-nn/ to /tmp/pip-req-build-dujj8cnz\n",
            "  Running command git clone --filter=blob:none --quiet https://github.com/NVlabs/tiny-cuda-nn/ /tmp/pip-req-build-dujj8cnz\n",
            "  Resolved https://github.com/NVlabs/tiny-cuda-nn/ to commit 28ca991f99b44d10387d73077c07ccfdd7f96275\n",
            "  Running command git submodule update --init --recursive -q\n",
            "  Preparing metadata (setup.py) ... \u001b[?25l\u001b[?25hdone\n",
            "Building wheels for collected packages: tinycudann\n",
            "  Building wheel for tinycudann (setup.py) ... \u001b[?25l\u001b[?25hdone\n",
            "  Created wheel for tinycudann: filename=tinycudann-1.7-cp310-cp310-linux_x86_64.whl size=31372273 sha256=d18b76a2e07057af1496410172c5a97b769f760d46347bf4a1502628e18fe30b\n",
            "  Stored in directory: /tmp/pip-ephem-wheel-cache-20bme0wn/wheels/32/d8/5e/dc94eca0794af9e09a6d97f19cf15dfe9bbbc4d56ae4db4aa2\n",
            "Successfully built tinycudann\n",
            "Installing collected packages: tinycudann\n",
            "Successfully installed tinycudann-1.7\n"
          ]
        }
      ],
      "source": [
        "!pip install git+https://github.com/NVlabs/tiny-cuda-nn/#subdirectory=bindings/torch\n"
      ]
    },
    {
      "cell_type": "code",
      "execution_count": 4,
      "metadata": {
        "colab": {
          "base_uri": "https://localhost:8080/"
        },
        "id": "tcQFgI_IOO2F",
        "outputId": "d27b129d-89c3-4b11-c869-71c434d28456"
      },
      "outputs": [
        {
          "output_type": "stream",
          "name": "stdout",
          "text": [
            "/content/drive/MyDrive/humanrf/home/zg296/humanrf/actorshq\n",
            "Processing /content/drive/MyDrive/humanrf/home/zg296/humanrf/actorshq\n",
            "  Preparing metadata (setup.py) ... \u001b[?25l\u001b[?25hdone\n",
            "Building wheels for collected packages: actorshq\n",
            "  Building wheel for actorshq (setup.py) ... \u001b[?25l\u001b[?25hdone\n",
            "  Created wheel for actorshq: filename=actorshq-1.0.0-cp310-cp310-linux_x86_64.whl size=874355 sha256=46a929bedc381af29dd9f85cff682b744eb510f0166f587747ce3de170e8e189\n",
            "  Stored in directory: /tmp/pip-ephem-wheel-cache-__j_cdza/wheels/cd/bd/71/7e816b697cc7a038f07f25f40d1bb361747b1e2426cffa3d5d\n",
            "Successfully built actorshq\n",
            "Installing collected packages: actorshq\n",
            "Successfully installed actorshq-1.0.0\n"
          ]
        }
      ],
      "source": [
        "%cd actorshq\n",
        "!pip3 install ."
      ]
    },
    {
      "cell_type": "code",
      "execution_count": 5,
      "metadata": {
        "id": "p4KGuQClOS6f",
        "colab": {
          "base_uri": "https://localhost:8080/"
        },
        "outputId": "5e5417cb-40a1-4376-bb24-56235d912951"
      },
      "outputs": [
        {
          "output_type": "stream",
          "name": "stdout",
          "text": [
            "/content/drive/MyDrive/humanrf/home/zg296/humanrf/humanrf\n",
            "Processing /content/drive/MyDrive/humanrf/home/zg296/humanrf/humanrf\n",
            "  Preparing metadata (setup.py) ... \u001b[?25l\u001b[?25hdone\n",
            "Building wheels for collected packages: humanrf\n",
            "  Building wheel for humanrf (setup.py) ... \u001b[?25l\u001b[?25hdone\n",
            "  Created wheel for humanrf: filename=humanrf-1.0.0-cp310-cp310-linux_x86_64.whl size=286908 sha256=0920200d9c253f7a8f01c04db6a52ecb55dc532554f9bcdfe72ad65661790fa0\n",
            "  Stored in directory: /tmp/pip-ephem-wheel-cache-yrxz5a0b/wheels/7d/94/9d/3898b3d6e9a8e000e634de884e1d7abbaacbec80dc5f85c647\n",
            "Successfully built humanrf\n",
            "Installing collected packages: humanrf\n",
            "Successfully installed humanrf-1.0.0\n"
          ]
        }
      ],
      "source": [
        "%cd ../humanrf\n",
        "!pip3 install ."
      ]
    },
    {
      "cell_type": "code",
      "execution_count": 6,
      "metadata": {
        "id": "45JpLCFMQf67",
        "colab": {
          "base_uri": "https://localhost:8080/"
        },
        "outputId": "077c8541-71a3-47a4-8bcc-c18887a220ab"
      },
      "outputs": [
        {
          "output_type": "stream",
          "name": "stdout",
          "text": [
            "env: PYTHONPATH=\"$/env/python:/content/drive/My Drive/humanrf/home/zg296/humanrf\n",
            "/content/drive/MyDrive/humanrf/home/zg296/humanrf\n"
          ]
        }
      ],
      "source": [
        "%env PYTHONPATH=\"$/env/python:/content/drive/My Drive/humanrf/home/zg296/humanrf\n",
        "%cd .."
      ]
    },
    {
      "cell_type": "code",
      "execution_count": 7,
      "metadata": {
        "id": "xNcLc6p7RqvO"
      },
      "outputs": [],
      "source": [
        "#Making files executable\n",
        "!chmod +x ./actorshq/dataset/download_manager.py\n",
        "!chmod +x ./humanrf/run.py"
      ]
    },
    {
      "cell_type": "code",
      "execution_count": 9,
      "metadata": {
        "id": "RlJNKsbzPhbP",
        "colab": {
          "base_uri": "https://localhost:8080/"
        },
        "outputId": "05bdd750-5622-4181-9f0b-04be8843d944"
      },
      "outputs": [
        {
          "output_type": "stream",
          "name": "stdout",
          "text": [
            "Traceback (most recent call last):\n",
            "  File \"/content/drive/MyDrive/humanrf/home/zg296/humanrf/./humanrf/run.py\", line 48, in <module>\n",
            "    dataset=VolumetricDataset(data_folder),\n",
            "  File \"/content/drive/My Drive/humanrf/home/zg296/humanrf/actorshq/dataset/volumetric_dataset.py\", line 89, in __init__\n",
            "    self.cameras = read_calibration_csv(self.filepaths.calibration_path)\n",
            "  File \"/content/drive/My Drive/humanrf/home/zg296/humanrf/actorshq/dataset/camera_data.py\", line 170, in read_calibration_csv\n",
            "    with open(input_csv_path, \"r\", newline=\"\", encoding=\"utf-8\") as csvfile:\n",
            "FileNotFoundError: [Errno 2] No such file or directory: '?/Actor01/Sequence1/4x/calibration.csv'\n"
          ]
        }
      ],
      "source": [
        "! ./humanrf/run.py \\\n",
        "    --config example_humanrf \\\n",
        "    --workspace /home/zg296/humanrf/example_workspace \\\n",
        "    --dataset.path ?"
      ]
    }
  ],
  "metadata": {
    "accelerator": "GPU",
    "colab": {
      "provenance": [],
      "authorship_tag": "ABX9TyM9VTyJNaLmKru1axarfSXU"
    },
    "kernelspec": {
      "display_name": "Python 3",
      "name": "python3"
    },
    "language_info": {
      "name": "python"
    }
  },
  "nbformat": 4,
  "nbformat_minor": 0
}
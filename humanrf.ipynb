{
  "cells": [
    {
      "cell_type": "code",
      "execution_count": 2,
      "metadata": {
        "colab": {
          "base_uri": "https://localhost:8080/"
        },
        "id": "dkerG8FAEI6B",
        "outputId": "79d5692f-6d54-4e29-f6d5-83b1a16520da"
      },
      "outputs": [
        {
          "output_type": "stream",
          "name": "stdout",
          "text": [
            "Mounted at /content/gdrive\n"
          ]
        }
      ],
      "source": [
        "from google.colab import drive\n",
        "drive.mount('/content/gdrive', force_remount=True)"
      ]
    },
    {
      "cell_type": "code",
      "execution_count": 1,
      "metadata": {
        "colab": {
          "base_uri": "https://localhost:8080/"
        },
        "id": "XLuE1zYwDsa0",
        "outputId": "d4f858fb-9554-4658-f9e9-b39e53bda1b3"
      },
      "outputs": [
        {
          "output_type": "stream",
          "name": "stdout",
          "text": [
            "/content/gdrive/MyDrive/humanrf/home/zg296/humanrf\n"
          ]
        }
      ],
      "source": [
        "%cd /content/gdrive/MyDrive/humanrf/home/zg296/humanrf"
      ]
    },
    {
      "cell_type": "code",
      "execution_count": 2,
      "metadata": {
        "id": "HUm_JRn1CCMY",
        "colab": {
          "base_uri": "https://localhost:8080/"
        },
        "outputId": "2469decd-a179-4f8d-8f90-42d89888eb06"
      },
      "outputs": [
        {
          "output_type": "stream",
          "name": "stdout",
          "text": [
            "Reading package lists... Done\n",
            "Building dependency tree... Done\n",
            "Reading state information... Done\n",
            "libglm-dev is already the newest version (0.9.9.8+ds-2).\n",
            "0 upgraded, 0 newly installed, 0 to remove and 15 not upgraded.\n",
            "Requirement already satisfied: ffmpeg-python==0.2.0 in /usr/local/lib/python3.10/dist-packages (from -r requirements.txt (line 1)) (0.2.0)\n",
            "Requirement already satisfied: lpips==0.1.4 in /usr/local/lib/python3.10/dist-packages (from -r requirements.txt (line 2)) (0.1.4)\n",
            "Requirement already satisfied: nerfacc==0.3.1 in /usr/local/lib/python3.10/dist-packages (from -r requirements.txt (line 3)) (0.3.1)\n",
            "Requirement already satisfied: ninja==1.11.1 in /usr/local/lib/python3.10/dist-packages (from -r requirements.txt (line 4)) (1.11.1)\n",
            "Requirement already satisfied: numpy==1.23.5 in /usr/local/lib/python3.10/dist-packages (from -r requirements.txt (line 5)) (1.23.5)\n",
            "Requirement already satisfied: opencv_python==4.6.0.66 in /usr/local/lib/python3.10/dist-packages (from -r requirements.txt (line 6)) (4.6.0.66)\n",
            "Requirement already satisfied: Pillow==9.3.0 in /usr/local/lib/python3.10/dist-packages (from -r requirements.txt (line 7)) (9.3.0)\n",
            "Requirement already satisfied: PyYAML==6.0 in /usr/local/lib/python3.10/dist-packages (from -r requirements.txt (line 8)) (6.0)\n",
            "Requirement already satisfied: Requests==2.30.0 in /usr/local/lib/python3.10/dist-packages (from -r requirements.txt (line 9)) (2.30.0)\n",
            "Requirement already satisfied: rich==13.3.5 in /usr/local/lib/python3.10/dist-packages (from -r requirements.txt (line 10)) (13.3.5)\n",
            "Requirement already satisfied: scikit_image==0.19.3 in /usr/local/lib/python3.10/dist-packages (from -r requirements.txt (line 11)) (0.19.3)\n",
            "Requirement already satisfied: scipy==1.9.3 in /usr/local/lib/python3.10/dist-packages (from -r requirements.txt (line 12)) (1.9.3)\n",
            "Requirement already satisfied: setuptools==67.6.1 in /usr/local/lib/python3.10/dist-packages (from -r requirements.txt (line 13)) (67.6.1)\n",
            "Requirement already satisfied: simple_parsing==0.0.21.post1 in /usr/local/lib/python3.10/dist-packages (from -r requirements.txt (line 14)) (0.0.21.post1)\n",
            "Requirement already satisfied: tensorboardX==2.5.1 in /usr/local/lib/python3.10/dist-packages (from -r requirements.txt (line 15)) (2.5.1)\n",
            "Requirement already satisfied: torch==1.13.0 in /usr/local/lib/python3.10/dist-packages (from -r requirements.txt (line 16)) (1.13.0)\n",
            "Requirement already satisfied: torchaudio==0.13.0 in /usr/local/lib/python3.10/dist-packages (from -r requirements.txt (line 17)) (0.13.0)\n",
            "Requirement already satisfied: torchvision==0.14.0 in /usr/local/lib/python3.10/dist-packages (from -r requirements.txt (line 18)) (0.14.0)\n",
            "Requirement already satisfied: toml==0.10.2 in /usr/local/lib/python3.10/dist-packages (from -r requirements.txt (line 19)) (0.10.2)\n",
            "Requirement already satisfied: tqdm==4.64.1 in /usr/local/lib/python3.10/dist-packages (from -r requirements.txt (line 20)) (4.64.1)\n",
            "Requirement already satisfied: urllib3==1.25.8 in /usr/local/lib/python3.10/dist-packages (from -r requirements.txt (line 21)) (1.25.8)\n",
            "Requirement already satisfied: future in /usr/local/lib/python3.10/dist-packages (from ffmpeg-python==0.2.0->-r requirements.txt (line 1)) (0.18.3)\n",
            "Requirement already satisfied: pybind11>=2.10.0 in /usr/local/lib/python3.10/dist-packages (from nerfacc==0.3.1->-r requirements.txt (line 3)) (2.11.1)\n",
            "Requirement already satisfied: charset-normalizer<4,>=2 in /usr/local/lib/python3.10/dist-packages (from Requests==2.30.0->-r requirements.txt (line 9)) (2.0.12)\n",
            "Requirement already satisfied: idna<4,>=2.5 in /usr/local/lib/python3.10/dist-packages (from Requests==2.30.0->-r requirements.txt (line 9)) (3.4)\n",
            "Requirement already satisfied: certifi>=2017.4.17 in /usr/local/lib/python3.10/dist-packages (from Requests==2.30.0->-r requirements.txt (line 9)) (2023.7.22)\n",
            "Requirement already satisfied: markdown-it-py<3.0.0,>=2.2.0 in /usr/local/lib/python3.10/dist-packages (from rich==13.3.5->-r requirements.txt (line 10)) (2.2.0)\n",
            "Requirement already satisfied: pygments<3.0.0,>=2.13.0 in /usr/local/lib/python3.10/dist-packages (from rich==13.3.5->-r requirements.txt (line 10)) (2.14.0)\n",
            "Requirement already satisfied: networkx>=2.2 in /usr/local/lib/python3.10/dist-packages (from scikit_image==0.19.3->-r requirements.txt (line 11)) (3.1)\n",
            "Requirement already satisfied: imageio>=2.4.1 in /usr/local/lib/python3.10/dist-packages (from scikit_image==0.19.3->-r requirements.txt (line 11)) (2.25.1)\n",
            "Requirement already satisfied: tifffile>=2019.7.26 in /usr/local/lib/python3.10/dist-packages (from scikit_image==0.19.3->-r requirements.txt (line 11)) (2023.7.18)\n",
            "Requirement already satisfied: PyWavelets>=1.1.1 in /usr/local/lib/python3.10/dist-packages (from scikit_image==0.19.3->-r requirements.txt (line 11)) (1.4.1)\n",
            "Requirement already satisfied: packaging>=20.0 in /usr/local/lib/python3.10/dist-packages (from scikit_image==0.19.3->-r requirements.txt (line 11)) (23.1)\n",
            "Requirement already satisfied: typing-extensions in /usr/local/lib/python3.10/dist-packages (from simple_parsing==0.0.21.post1->-r requirements.txt (line 14)) (4.7.1)\n",
            "Requirement already satisfied: docstring-parser~=0.15 in /usr/local/lib/python3.10/dist-packages (from simple_parsing==0.0.21.post1->-r requirements.txt (line 14)) (0.15)\n",
            "Requirement already satisfied: protobuf<=3.20.1,>=3.8.0 in /usr/local/lib/python3.10/dist-packages (from tensorboardX==2.5.1->-r requirements.txt (line 15)) (3.20.1)\n",
            "Requirement already satisfied: nvidia-cuda-runtime-cu11==11.7.99 in /usr/local/lib/python3.10/dist-packages (from torch==1.13.0->-r requirements.txt (line 16)) (11.7.99)\n",
            "Requirement already satisfied: nvidia-cudnn-cu11==8.5.0.96 in /usr/local/lib/python3.10/dist-packages (from torch==1.13.0->-r requirements.txt (line 16)) (8.5.0.96)\n",
            "Requirement already satisfied: nvidia-cublas-cu11==11.10.3.66 in /usr/local/lib/python3.10/dist-packages (from torch==1.13.0->-r requirements.txt (line 16)) (11.10.3.66)\n",
            "Requirement already satisfied: nvidia-cuda-nvrtc-cu11==11.7.99 in /usr/local/lib/python3.10/dist-packages (from torch==1.13.0->-r requirements.txt (line 16)) (11.7.99)\n",
            "Requirement already satisfied: wheel in /usr/local/lib/python3.10/dist-packages (from nvidia-cublas-cu11==11.10.3.66->torch==1.13.0->-r requirements.txt (line 16)) (0.41.0)\n",
            "Requirement already satisfied: mdurl~=0.1 in /usr/local/lib/python3.10/dist-packages (from markdown-it-py<3.0.0,>=2.2.0->rich==13.3.5->-r requirements.txt (line 10)) (0.1.2)\n"
          ]
        }
      ],
      "source": [
        "!sudo apt-get install libglm-dev\n",
        "!pip install -r requirements.txt\n"
      ]
    },
    {
      "cell_type": "code",
      "execution_count": 3,
      "metadata": {
        "colab": {
          "base_uri": "https://localhost:8080/"
        },
        "id": "_8986qrWFoYs",
        "outputId": "348303f1-f70f-409e-991b-48eacbd17cb0"
      },
      "outputs": [
        {
          "output_type": "stream",
          "name": "stdout",
          "text": [
            "Collecting git+https://github.com/NVlabs/tiny-cuda-nn/#subdirectory=bindings/torch\n",
            "  Cloning https://github.com/NVlabs/tiny-cuda-nn/ to /tmp/pip-req-build-yw67c4df\n",
            "  Running command git clone --filter=blob:none --quiet https://github.com/NVlabs/tiny-cuda-nn/ /tmp/pip-req-build-yw67c4df\n",
            "  Resolved https://github.com/NVlabs/tiny-cuda-nn/ to commit 6f018a9cd1b369bcb247e1d539968db8e48b2b3f\n",
            "  Running command git submodule update --init --recursive -q\n",
            "  Preparing metadata (setup.py) ... \u001b[?25l\u001b[?25hdone\n",
            "Building wheels for collected packages: tinycudann\n",
            "  Building wheel for tinycudann (setup.py) ... \u001b[?25l\u001b[?25hdone\n",
            "  Created wheel for tinycudann: filename=tinycudann-1.7-cp310-cp310-linux_x86_64.whl size=30524783 sha256=c68ca316bcb74e9fd1345e6d72976ea4a1080a9c8f09eb20d55e3d61f27a2349\n",
            "  Stored in directory: /tmp/pip-ephem-wheel-cache-wdlybmot/wheels/32/d8/5e/dc94eca0794af9e09a6d97f19cf15dfe9bbbc4d56ae4db4aa2\n",
            "Successfully built tinycudann\n",
            "Installing collected packages: tinycudann\n",
            "Successfully installed tinycudann-1.7\n"
          ]
        }
      ],
      "source": [
        "!pip install git+https://github.com/NVlabs/tiny-cuda-nn/#subdirectory=bindings/torch\n"
      ]
    },
    {
      "cell_type": "code",
      "execution_count": 4,
      "metadata": {
        "colab": {
          "base_uri": "https://localhost:8080/"
        },
        "id": "tcQFgI_IOO2F",
        "outputId": "280db5e6-6db5-445c-957e-8dcf2c561d93"
      },
      "outputs": [
        {
          "output_type": "stream",
          "name": "stdout",
          "text": [
            "/content/gdrive/MyDrive/humanrf/home/zg296/humanrf/actorshq\n",
            "Processing /content/gdrive/MyDrive/humanrf/home/zg296/humanrf/actorshq\n",
            "  Preparing metadata (setup.py) ... \u001b[?25l\u001b[?25hdone\n",
            "Building wheels for collected packages: actorshq\n",
            "  Building wheel for actorshq (setup.py) ... \u001b[?25l\u001b[?25hdone\n",
            "  Created wheel for actorshq: filename=actorshq-1.0.0-cp310-cp310-linux_x86_64.whl size=882632 sha256=6529d9862ae3e90c56780b3fb3c37566a34a01c8e726278fbe12ffd92e9b2bc5\n",
            "  Stored in directory: /tmp/pip-ephem-wheel-cache-uf0uu6ub/wheels/2b/c5/3a/08e519e58e8e18a517344604ac02a1fff84d436bd851bac67e\n",
            "Successfully built actorshq\n",
            "Installing collected packages: actorshq\n",
            "Successfully installed actorshq-1.0.0\n"
          ]
        }
      ],
      "source": [
        "%cd actorshq\n",
        "!pip3 install ."
      ]
    },
    {
      "cell_type": "code",
      "execution_count": 5,
      "metadata": {
        "colab": {
          "base_uri": "https://localhost:8080/"
        },
        "id": "p4KGuQClOS6f",
        "outputId": "fb868265-d2e0-4d8f-83d7-3f865b5e39c3"
      },
      "outputs": [
        {
          "output_type": "stream",
          "name": "stdout",
          "text": [
            "/content/gdrive/MyDrive/humanrf/home/zg296/humanrf/humanrf\n",
            "Processing /content/gdrive/MyDrive/humanrf/home/zg296/humanrf/humanrf\n",
            "  Preparing metadata (setup.py) ... \u001b[?25l\u001b[?25hdone\n",
            "Building wheels for collected packages: humanrf\n",
            "  Building wheel for humanrf (setup.py) ... \u001b[?25l\u001b[?25hdone\n",
            "  Created wheel for humanrf: filename=humanrf-1.0.0-cp310-cp310-linux_x86_64.whl size=289085 sha256=af860a61fd8b5e8ffd8c26c90c8728e94e507858a8d8f80908e517c3fdc317eb\n",
            "  Stored in directory: /tmp/pip-ephem-wheel-cache-gojgonyl/wheels/f4/a2/df/c4b749e83887c74f9a748cd22d32a08dc0700dc4cc7489a236\n",
            "Successfully built humanrf\n",
            "Installing collected packages: humanrf\n",
            "Successfully installed humanrf-1.0.0\n"
          ]
        }
      ],
      "source": [
        "%cd ../humanrf\n",
        "!pip3 install ."
      ]
    },
    {
      "cell_type": "code",
      "execution_count": 6,
      "metadata": {
        "colab": {
          "base_uri": "https://localhost:8080/"
        },
        "id": "45JpLCFMQf67",
        "outputId": "3b1d1efb-5102-4d34-9d0f-5fffe8ceff1e"
      },
      "outputs": [
        {
          "output_type": "stream",
          "name": "stdout",
          "text": [
            "env: PYTHONPATH=\"$/env/python:/content/gdrive/My Drive/humanrf/home/zg296/humanrf\n"
          ]
        }
      ],
      "source": [
        "%env PYTHONPATH=\"$/env/python:/content/gdrive/My Drive/humanrf/home/zg296/humanrf\n"
      ]
    },
    {
      "cell_type": "code",
      "execution_count": 7,
      "metadata": {
        "colab": {
          "base_uri": "https://localhost:8080/"
        },
        "id": "5kaLCUv8_c-O",
        "outputId": "e6205d3c-1429-429d-a591-00b70079f3cf"
      },
      "outputs": [
        {
          "output_type": "stream",
          "name": "stdout",
          "text": [
            "/content/gdrive/MyDrive/humanrf/home/zg296/humanrf\n"
          ]
        }
      ],
      "source": [
        "%cd .."
      ]
    },
    {
      "cell_type": "code",
      "execution_count": 8,
      "metadata": {
        "id": "xNcLc6p7RqvO"
      },
      "outputs": [],
      "source": [
        "#Making files executable\n",
        "!chmod +x ./actorshq/dataset/download_manager.py\n",
        "!chmod +x ./humanrf/run.py"
      ]
    },
    {
      "cell_type": "code",
      "execution_count": 11,
      "metadata": {
        "colab": {
          "base_uri": "https://localhost:8080/"
        },
        "id": "RlJNKsbzPhbP",
        "outputId": "2b4ff072-3d11-427b-8dbd-483ac8f38832"
      },
      "outputs": [
        {
          "output_type": "stream",
          "name": "stdout",
          "text": [
            "Running adaptive temporal partitioning with threshold 1.25: 100% 50/50 [00:03<00:00, 15.18it/s]\n",
            "You can find translations there:\n",
            "[[ 1.00603330e-02  3.00810433e-01  2.30646729e+00]\n",
            " [ 6.44593601e-03  8.03124005e-01  2.30676364e+00]\n",
            " [ 1.08495628e-02  1.29882255e+00  2.30545705e+00]\n",
            " [ 1.21731608e-02  1.79691841e+00  2.29979268e+00]\n",
            " [ 2.89767250e-01 -7.21213429e-02  1.91727122e+00]\n",
            " [-2.96526668e-01 -7.82983865e-02  1.91401252e+00]\n",
            " [ 3.15049723e-01  2.42989281e+00  1.97395874e+00]\n",
            " [-2.72091353e-01  2.44009127e+00  1.97733908e+00]\n",
            " [-6.17772691e-01  3.08663157e-01  2.24738698e+00]\n",
            " [-6.19610404e-01  8.05929099e-01  2.24650980e+00]\n",
            " [-6.21866640e-01  1.30403953e+00  2.24650179e+00]\n",
            " [-6.22445177e-01  1.80317750e+00  2.24378413e+00]\n",
            " [-1.16039113e+00  3.08209211e-01  2.01222176e+00]\n",
            " [-1.16536167e+00  8.05664296e-01  2.01194793e+00]\n",
            " [-1.16795606e+00  1.30384030e+00  2.01583136e+00]\n",
            " [-1.17020099e+00  1.80014879e+00  2.01499011e+00]\n",
            " [-1.63105356e+00  3.09932024e-01  1.62267274e+00]\n",
            " [-1.62762461e+00  8.08033617e-01  1.62526558e+00]\n",
            " [-1.63242880e+00  1.30234196e+00  1.61797211e+00]\n",
            " [-1.62974177e+00  1.80107862e+00  1.62133750e+00]\n",
            " [-1.16347987e+00 -4.59923517e-02  1.56303664e+00]\n",
            " [-1.57614714e+00 -5.65148551e-02  1.14999601e+00]\n",
            " [-7.63631904e-01  2.59029840e+00  9.32836084e-01]\n",
            " [-9.42027605e-01  2.58441281e+00  7.44272810e-01]\n",
            " [-2.01278472e+00  3.07947562e-01  1.15039590e+00]\n",
            " [-2.01119973e+00  8.03426198e-01  1.14911274e+00]\n",
            " [-2.00250120e+00  1.30043388e+00  1.14697893e+00]\n",
            " [-1.99392570e+00  1.79756033e+00  1.14893839e+00]\n",
            " [-2.24473817e+00  3.10349415e-01  6.03030674e-01]\n",
            " [-2.24135202e+00  8.08264288e-01  6.07118117e-01]\n",
            " [-2.23870466e+00  1.30469448e+00  6.02437272e-01]\n",
            " [-2.22881365e+00  1.80405040e+00  6.01464232e-01]\n",
            " [-2.30203821e+00  3.08616189e-01 -6.60991779e-03]\n",
            " [-2.29714070e+00  8.04734910e-01 -4.86298404e-03]\n",
            " [-2.29433073e+00  1.30211831e+00 -7.66403075e-03]\n",
            " [-2.28741169e+00  1.79947879e+00 -1.23757401e-02]\n",
            " [-1.91411273e+00 -6.75841035e-02  2.90909840e-01]\n",
            " [-1.90904188e+00 -7.52205040e-02 -2.93350057e-01]\n",
            " [-1.95829139e+00  2.43638959e+00  2.76503064e-01]\n",
            " [-1.95976723e+00  2.43653651e+00 -3.09926894e-01]\n",
            " [-2.24532007e+00  3.05664903e-01 -6.23140998e-01]\n",
            " [-2.24501111e+00  8.04728192e-01 -6.26056827e-01]\n",
            " [-2.24351255e+00  1.30079966e+00 -6.27213957e-01]\n",
            " [-2.24804841e+00  1.79906460e+00 -6.34839978e-01]\n",
            " [-2.00519076e+00  3.07475569e-01 -1.16992986e+00]\n",
            " [-2.00527101e+00  8.05281105e-01 -1.16935253e+00]\n",
            " [-2.00738092e+00  1.29596888e+00 -1.17297565e+00]\n",
            " [-2.00869697e+00  1.79295433e+00 -1.17090427e+00]\n",
            " [-1.61840382e+00  3.00585933e-01 -1.63485010e+00]\n",
            " [-1.61697709e+00  7.96302504e-01 -1.64124426e+00]\n",
            " [-1.62143849e+00  1.29405869e+00 -1.63402130e+00]\n",
            " [-1.61902316e+00  1.79110752e+00 -1.63703035e+00]\n",
            " [-1.57333548e+00 -5.88488980e-02 -1.15942652e+00]\n",
            " [-1.14780108e+00 -6.46820810e-02 -1.56619619e+00]\n",
            " [-9.24890434e-01  2.55599861e+00 -7.79342788e-01]\n",
            " [-7.36344828e-01  2.56563508e+00 -9.50772747e-01]\n",
            " [-1.05535438e+00  2.99225950e-01 -2.05362661e+00]\n",
            " [-1.05254425e+00  7.95765592e-01 -2.05697762e+00]\n",
            " [-1.05226181e+00  1.29078925e+00 -2.06327793e+00]\n",
            " [-1.05052534e+00  1.78896111e+00 -2.06369953e+00]\n",
            " [-3.68345284e-01  3.06377441e-01 -2.29919641e+00]\n",
            " [-3.66912764e-01  7.94410935e-01 -2.30222368e+00]\n",
            " [-3.62378784e-01  1.29132526e+00 -2.30157760e+00]\n",
            " [-3.60093528e-01  1.78946836e+00 -2.29830416e+00]\n",
            " [ 3.80670370e-01  3.04624237e-01 -2.29396777e+00]\n",
            " [ 3.80401838e-01  8.01619657e-01 -2.29625596e+00]\n",
            " [ 3.85043691e-01  1.28661371e+00 -2.29623592e+00]\n",
            " [ 3.81467401e-01  1.79134103e+00 -2.29114526e+00]\n",
            " [ 1.06855451e+00  2.92864384e-01 -2.04873554e+00]\n",
            " [ 1.06985425e+00  7.88900752e-01 -2.05279421e+00]\n",
            " [ 1.07132163e+00  1.28594176e+00 -2.05246535e+00]\n",
            " [ 1.07649120e+00  1.78231391e+00 -2.05058822e+00]\n",
            " [ 1.63581341e+00  2.95942884e-01 -1.62124275e+00]\n",
            " [ 1.63251804e+00  7.92854160e-01 -1.62774307e+00]\n",
            " [ 1.63203930e+00  1.28807712e+00 -1.62834933e+00]\n",
            " [ 1.62736066e+00  1.78804144e+00 -1.63123733e+00]\n",
            " [ 1.16801391e+00 -5.81860117e-02 -1.56589253e+00]\n",
            " [ 1.57956955e+00 -5.80702971e-02 -1.15379740e+00]\n",
            " [ 7.61470234e-01  2.56880990e+00 -9.27003263e-01]\n",
            " [ 9.44490070e-01  2.55868465e+00 -7.49412811e-01]\n",
            " [ 2.03351448e+00  3.04518603e-01 -1.14149576e+00]\n",
            " [ 2.03316355e+00  7.98167009e-01 -1.14056242e+00]\n",
            " [ 2.03146849e+00  1.29375711e+00 -1.13910965e+00]\n",
            " [ 2.03130785e+00  1.79165723e+00 -1.13706783e+00]\n",
            " [ 2.24388448e+00  2.98517134e-01 -5.83855552e-01]\n",
            " [ 2.24015628e+00  8.00370056e-01 -5.86821765e-01]\n",
            " [ 2.24023633e+00  1.29111435e+00 -5.83555835e-01]\n",
            " [ 2.24140699e+00  1.78789785e+00 -5.81274156e-01]\n",
            " [ 2.31023209e+00  3.00163464e-01  4.42309565e-03]\n",
            " [ 2.31006079e+00  7.98118265e-01  4.04294358e-03]\n",
            " [ 2.30937834e+00  1.29501804e+00  5.74794318e-03]\n",
            " [ 2.30947069e+00  1.79137238e+00  2.16914148e-03]\n",
            " [ 1.90469804e+00 -8.56346645e-02 -2.84245810e-01]\n",
            " [ 1.90541487e+00 -8.90133756e-02  3.00745744e-01]\n",
            " [ 1.99065381e+00  2.42958787e+00 -2.83187100e-01]\n",
            " [ 1.99466990e+00  2.41985526e+00  3.01974230e-01]\n",
            " [ 2.24213759e+00  3.00551481e-01  6.29165459e-01]\n",
            " [ 2.24311991e+00  7.97881007e-01  6.26708126e-01]\n",
            " [ 2.24264965e+00  1.29441652e+00  6.24176552e-01]\n",
            " [ 2.24419958e+00  1.79012458e+00  6.25609618e-01]\n",
            " [ 2.00290728e+00  3.00640017e-01  1.17177276e+00]\n",
            " [ 2.00184839e+00  7.97336736e-01  1.16931487e+00]\n",
            " [ 1.99954236e+00  1.29726441e+00  1.16526794e+00]\n",
            " [ 2.00027478e+00  1.79535581e+00  1.16579519e+00]\n",
            " [ 1.62501585e+00  2.98499643e-01  1.62683729e+00]\n",
            " [ 1.62107934e+00  7.97038555e-01  1.62946522e+00]\n",
            " [ 1.61850930e+00  1.29680155e+00  1.62860716e+00]\n",
            " [ 1.61636869e+00  1.79503592e+00  1.63217667e+00]\n",
            " [ 1.59524535e+00 -2.94303105e-02  1.18103667e+00]\n",
            " [ 1.17535007e+00 -3.03650647e-02  1.58987427e+00]\n",
            " [ 9.17776241e-01  2.58279653e+00  7.56071648e-01]\n",
            " [ 7.38163258e-01  2.57603427e+00  9.43609740e-01]\n",
            " [ 1.15886910e+00  2.99374191e-01  2.01554692e+00]\n",
            " [ 1.16012826e+00  8.00444425e-01  2.01403568e+00]\n",
            " [ 1.16410740e+00  1.29154903e+00  2.00664367e+00]\n",
            " [ 1.16318066e+00  1.78858102e+00  2.00806098e+00]\n",
            " [ 6.15095122e-01  3.02739733e-01  2.24550753e+00]\n",
            " [ 6.15260646e-01  8.02023647e-01  2.24470214e+00]\n",
            " [ 6.19973726e-01  1.29774660e+00  2.24370214e+00]\n",
            " [ 6.22149490e-01  1.78951436e+00  2.24071948e+00]\n",
            " [ 8.36822206e-01  1.32793042e+00  1.99572423e+00]\n",
            " [ 8.36932885e-01  1.51424417e+00  1.99425131e+00]\n",
            " [-8.42842964e-01  1.33243044e+00  2.00145621e+00]\n",
            " [-8.46904656e-01  1.52481567e+00  2.00686242e+00]\n",
            " [-1.85606883e-02  5.57341893e-01  2.20261276e+00]\n",
            " [ 1.66440009e+00  1.41657368e+00  1.69752252e+00]\n",
            " [ 5.26837782e-03  1.44797249e+00  2.46804136e+00]\n",
            " [-1.68120156e+00  1.40700013e+00  1.67608430e+00]\n",
            " [ 1.47244361e+00  5.02063690e-01  1.88673639e+00]\n",
            " [ 1.22678591e+00  5.05217449e-01  2.06731479e+00]\n",
            " [ 1.31872244e+00  7.61293972e-01  1.87309758e+00]\n",
            " [ 1.31956479e+00  1.27106459e+00  1.87214693e+00]\n",
            " [ 1.73752425e+00  1.05399199e+00  1.34397866e+00]\n",
            " [ 1.73508790e+00  1.29330306e+00  1.34257326e+00]\n",
            " [ 1.02080902e+00  1.30532048e-01  1.79054136e+00]\n",
            " [ 5.43498170e-01  1.32031350e-01  1.99192134e+00]\n",
            " [-1.16110985e+00  5.12778940e-01  2.09437615e+00]\n",
            " [-1.48084710e+00  5.10155622e-01  1.88059881e+00]\n",
            " [-1.32444613e+00  7.68812480e-01  1.87555199e+00]\n",
            " [-1.32420554e+00  1.27388687e+00  1.87474105e+00]\n",
            " [-1.74287383e+00  1.05330058e+00  1.33481422e+00]\n",
            " [-1.74594394e+00  1.30346635e+00  1.33480442e+00]\n",
            " [-5.47819344e-01  1.35343469e-01  1.98394736e+00]\n",
            " [-1.02247960e+00  1.30031127e-01  1.78159613e+00]\n",
            " [-1.48346728e+00  4.97782377e-01 -1.87760370e+00]\n",
            " [-1.15460548e+00  5.00949251e-01 -2.09335055e+00]\n",
            " [-1.31332387e+00  7.57681409e-01 -1.88564186e+00]\n",
            " [-1.31834516e+00  1.26623090e+00 -1.88415070e+00]\n",
            " [-2.14245157e+00  1.31806235e+00 -2.66983110e-01]\n",
            " [-2.13522532e+00  1.52081934e+00 -2.57034941e-01]\n",
            " [-1.01233536e+00  1.22798743e-01 -1.78203750e+00]\n",
            " [-5.34548808e-01  1.23845293e-01 -1.98213893e+00]\n",
            " [ 1.17926818e+00  4.92502662e-01 -2.08788707e+00]\n",
            " [ 1.50370462e+00  4.96706418e-01 -1.86401377e+00]\n",
            " [ 1.32757429e+00  7.54396264e-01 -1.87643186e+00]\n",
            " [ 1.32713767e+00  1.25724438e+00 -1.87531386e+00]\n",
            " [ 2.16048667e+00  1.32100319e+00 -2.47500628e-01]\n",
            " [ 2.15797750e+00  1.52339882e+00 -2.47315744e-01]\n",
            " [ 5.42225398e-01  1.14082165e-01 -1.97085643e+00]\n",
            " [ 1.01813685e+00  1.12074833e-01 -1.76953943e+00]]\n",
            "Object center is at  0.003508456752629918 1.0299729500954204 0.22926566828871225\n",
            "Images are loaded in 0.061368465423583984 seconds by a pool of 1 processes.\n",
            "Setting up [LPIPS] perceptual loss: trunk [alex], v[0.1], spatial [off]\n",
            "/usr/local/lib/python3.10/dist-packages/torchvision/models/_utils.py:208: UserWarning: The parameter 'pretrained' is deprecated since 0.13 and may be removed in the future, please use 'weights' instead.\n",
            "  warnings.warn(\n",
            "/usr/local/lib/python3.10/dist-packages/torchvision/models/_utils.py:223: UserWarning: Arguments other than a weight enum or `None` for 'weights' are deprecated since 0.13 and may be removed in the future. The current behavior is equivalent to passing `weights=AlexNet_Weights.IMAGENET1K_V1`. You can also use `weights=AlexNet_Weights.DEFAULT` to get the most up-to-date weights.\n",
            "  warnings.warn(msg)\n",
            "Loading model from: /usr/local/lib/python3.10/dist-packages/lpips/weights/v0.1/alex.pth\n",
            "\u001b[1;34m[\u001b[0m\u001b[34mINFO\u001b[0m\u001b[1;34m]\u001b[0m\u001b[34m # parameters: \u001b[0m\u001b[1;36m29.840\u001b[0m\u001b[34m million\u001b[0m\n",
            "\u001b[1;34m[\u001b[0m\u001b[34mINFO\u001b[0m\u001b[1;34m]\u001b[0m\u001b[34m Loading the checkpoint from \u001b[0m\n",
            "\u001b[35m/content/gdrive/MyDrive/humanrf/home/zg296/humanrf/example_workspace/checkpoints\u001b[0m\n",
            "\u001b[35m/\u001b[0m\u001b[95mbest.pth\u001b[0m\u001b[34m \u001b[0m\u001b[33m...\u001b[0m\n",
            "\u001b[1;34m[\u001b[0m\u001b[34mINFO\u001b[0m\u001b[1;34m]\u001b[0m\u001b[34m The full state is loaded at step \u001b[0m\u001b[1;36m50000\u001b[0m\n",
            "\u001b[92m───────────────────────────────────── \u001b[0m\u001b[1;31mTest\u001b[0m\u001b[92m ─────────────────────────────────────\u001b[0m\n",
            "\u001b[1;34m[\u001b[0m\u001b[34mINFO\u001b[0m\u001b[1;34m]\u001b[0m\u001b[34m Results are saved to \u001b[0m\n",
            "\u001b[35m/content/gdrive/MyDrive/humanrf/home/zg296/humanrf/letsdoit/results/\u001b[0m\u001b[95mtest_calibra\u001b[0m\n",
            "\u001b[95mtion_file\u001b[0m\n",
            "  1% 2/351 [00:03<10:29,  1.80s/it]Traceback (most recent call last):\n",
            "  File \"/content/gdrive/MyDrive/humanrf/home/zg296/humanrf/./humanrf/run.py\", line 178, in <module>\n",
            "    trainer.test(trajectory_data_loader, results_folder / \"test_calibration_file\", True)\n",
            "  File \"/usr/local/lib/python3.10/dist-packages/torch/autograd/grad_mode.py\", line 27, in decorate_context\n",
            "    return func(*args, **kwargs)\n",
            "  File \"/content/gdrive/My Drive/humanrf/home/zg296/humanrf/humanrf/trainer.py\", line 445, in test\n",
            "    prune_samples(\n",
            "  File \"/usr/local/lib/python3.10/dist-packages/torch/autograd/grad_mode.py\", line 27, in decorate_context\n",
            "    return func(*args, **kwargs)\n",
            "  File \"/content/gdrive/My Drive/humanrf/home/zg296/humanrf/humanrf/volume_rendering.py\", line 73, in prune_samples\n",
            "    density = scene_representation.density(query_input).density.unsqueeze(-1)\n",
            "  File \"/content/gdrive/My Drive/humanrf/home/zg296/humanrf/humanrf/scene_representation/humanrf.py\", line 173, in density\n",
            "    features[segment_mask] = self.feature_grids[segment_number](\n",
            "KeyboardInterrupt\n",
            "  1% 2/351 [00:04<14:08,  2.43s/it]\n",
            "^C\n"
          ]
        }
      ],
      "source": [
        "! ./humanrf/run.py \\\n",
        "    --config example_humanrf \\\n",
        "    --workspace /content/gdrive/MyDrive/humanrf/home/zg296/humanrf/letsdoit\\\n",
        "    --dataset.path /content/gdrive/MyDrive/archive\n"
      ]
    },
    {
      "cell_type": "markdown",
      "source": [],
      "metadata": {
        "id": "XUAc1J3jhJC9"
      }
    },
    {
      "cell_type": "code",
      "execution_count": 29,
      "metadata": {
        "id": "nXgkX3wdOMjk",
        "colab": {
          "base_uri": "https://localhost:8080/"
        },
        "outputId": "1edd24e9-b72c-4583-d9b7-9c383ddfde35"
      },
      "outputs": [
        {
          "output_type": "stream",
          "name": "stdout",
          "text": [
            "Enumerating objects: 16, done.\n",
            "Counting objects:   6% (1/16)\rCounting objects:  12% (2/16)\rCounting objects:  18% (3/16)\rCounting objects:  25% (4/16)\rCounting objects:  31% (5/16)\rCounting objects:  37% (6/16)\rCounting objects:  43% (7/16)\rCounting objects:  50% (8/16)\rCounting objects:  56% (9/16)\rCounting objects:  62% (10/16)\rCounting objects:  68% (11/16)\rCounting objects:  75% (12/16)\rCounting objects:  81% (13/16)\rCounting objects:  87% (14/16)\rCounting objects:  93% (15/16)\rCounting objects: 100% (16/16)\rCounting objects: 100% (16/16), done.\n",
            "Delta compression using up to 2 threads\n",
            "Compressing objects: 100% (9/9), done.\n",
            "Writing objects: 100% (9/9), 16.29 MiB | 7.55 MiB/s, done.\n",
            "Total 9 (delta 6), reused 0 (delta 0), pack-reused 0\n",
            "remote: Resolving deltas: 100% (6/6), completed with 6 local objects.\u001b[K\n",
            "To https://github.com/korhankemalkaya/HumanRF.git\n",
            "   4d626db..3f7e952  main -> main\n",
            "Branch 'main' set up to track remote branch 'main' from 'origin'.\n"
          ]
        }
      ],
      "source": [
        "! git push -u origin main"
      ]
    },
    {
      "cell_type": "code",
      "source": [
        "! git config --global user.email \"korhankemalkaya@gmail.com\"\n",
        "! git config --global user.name \"korhankemalkaya\""
      ],
      "metadata": {
        "id": "lUVhqExF_ro3"
      },
      "execution_count": 20,
      "outputs": []
    }
  ],
  "metadata": {
    "colab": {
      "provenance": [],
      "gpuType": "T4"
    },
    "kernelspec": {
      "display_name": "Python 3",
      "name": "python3"
    },
    "language_info": {
      "name": "python"
    },
    "accelerator": "GPU"
  },
  "nbformat": 4,
  "nbformat_minor": 0
}